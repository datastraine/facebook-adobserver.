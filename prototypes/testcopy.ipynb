{
 "cells": [
  {
   "cell_type": "code",
   "execution_count": 4,
   "metadata": {},
   "outputs": [
    {
     "name": "stdout",
     "output_type": "stream",
     "text": [
      "Initalized\n"
     ]
    }
   ],
   "source": [
    "# establishing environment\n",
    "import re\n",
    "\n",
    "import pandas as pd\n",
    "import numpy as np\n",
    "import seaborn as sns\n",
    "import matplotlib.pyplot as plt\n",
    "\n",
    "from scipy import stats\n",
    "from wordcloud import WordCloud\n",
    "from sklearn.model_selection import train_test_split\n",
    "from sklearn.metrics import classification_report\n",
    "from sklearn.linear_model import LogisticRegression\n",
    "from sklearn.feature_extraction.text import CountVectorizer, TfidfVectorizer\n",
    "\n",
    "import warnings\n",
    "warnings.filterwarnings(\"ignore\")\n",
    "\n",
    "print('Initalized')"
   ]
  },
  {
   "cell_type": "code",
   "execution_count": 5,
   "metadata": {},
   "outputs": [
    {
     "data": {
      "text/plain": [
       "(222186, 25)"
      ]
     },
     "execution_count": 5,
     "metadata": {},
     "output_type": "execute_result"
    }
   ],
   "source": [
    "df = pd.read_csv('en-US.csv')\n",
    "df.shape"
   ]
  },
  {
   "cell_type": "code",
   "execution_count": 6,
   "metadata": {
    "scrolled": true
   },
   "outputs": [
    {
     "data": {
      "text/plain": [
       "Index(['id', 'html', 'political', 'not_political', 'title', 'message',\n",
       "       'thumbnail', 'created_at', 'updated_at', 'lang', 'images',\n",
       "       'impressions', 'political_probability', 'targeting', 'suppressed',\n",
       "       'targets', 'advertiser', 'entities', 'page', 'lower_page', 'targetings',\n",
       "       'paid_for_by', 'targetedness', 'listbuilding_fundraising_proba',\n",
       "       'page_id'],\n",
       "      dtype='object')"
      ]
     },
     "execution_count": 6,
     "metadata": {},
     "output_type": "execute_result"
    }
   ],
   "source": [
    "df.columns"
   ]
  },
  {
   "cell_type": "code",
   "execution_count": 7,
   "metadata": {},
   "outputs": [
    {
     "data": {
      "text/plain": [
       "38        0.087742\n",
       "58        0.095117\n",
       "66        0.028502\n",
       "183       0.016852\n",
       "196       0.014723\n",
       "            ...   \n",
       "222007    0.028059\n",
       "222084    0.021734\n",
       "222128    0.033144\n",
       "222129    0.014861\n",
       "222135    0.026714\n",
       "Name: political_probability, Length: 920, dtype: float64"
      ]
     },
     "execution_count": 7,
     "metadata": {},
     "output_type": "execute_result"
    }
   ],
   "source": [
    "df[df['political_probability'] < .1]['political_probability']"
   ]
  },
  {
   "cell_type": "code",
   "execution_count": 8,
   "metadata": {},
   "outputs": [
    {
     "data": {
      "text/plain": [
       "0                                          Stop Republicans\n",
       "1                  Planned Parenthood Federation of America\n",
       "2                                             No Kid Hungry\n",
       "3                                     Gillibrand for Senate\n",
       "4                                                       NaN\n",
       "                                ...                        \n",
       "222181                 Shahid Buttar for Congress Committee\n",
       "222182    CATHOLIC RELIEF SERVICES - UNITED STATES CONFE...\n",
       "222183                               WARREN DEMOCRATS, INC.\n",
       "222184                                                  NaN\n",
       "222185                                                  NaN\n",
       "Name: paid_for_by, Length: 222186, dtype: object"
      ]
     },
     "execution_count": 8,
     "metadata": {},
     "output_type": "execute_result"
    }
   ],
   "source": [
    "df['paid_for_by']"
   ]
  },
  {
   "cell_type": "code",
   "execution_count": 9,
   "metadata": {},
   "outputs": [
    {
     "data": {
      "text/plain": [
       "id                                     0\n",
       "html                                   0\n",
       "political                              0\n",
       "not_political                          0\n",
       "title                                 47\n",
       "message                                0\n",
       "thumbnail                              0\n",
       "created_at                             0\n",
       "updated_at                             0\n",
       "lang                                   0\n",
       "images                                 0\n",
       "impressions                            0\n",
       "political_probability                  0\n",
       "targeting                          57057\n",
       "suppressed                             0\n",
       "targets                             3862\n",
       "advertiser                         35855\n",
       "entities                            3140\n",
       "page                                5378\n",
       "lower_page                          5378\n",
       "targetings                         58272\n",
       "paid_for_by                        59689\n",
       "targetedness                       67357\n",
       "listbuilding_fundraising_proba     74061\n",
       "page_id                           192476\n",
       "dtype: int64"
      ]
     },
     "execution_count": 9,
     "metadata": {},
     "output_type": "execute_result"
    }
   ],
   "source": [
    "df.isnull().sum()"
   ]
  },
  {
   "cell_type": "code",
   "execution_count": 10,
   "metadata": {},
   "outputs": [
    {
     "data": {
      "text/plain": [
       "id                           0\n",
       "political                    0\n",
       "not_political                0\n",
       "title                        0\n",
       "message                      0\n",
       "created_at                   0\n",
       "updated_at                   0\n",
       "impressions                  0\n",
       "political_probability        0\n",
       "advertiser               35814\n",
       "page                      5331\n",
       "paid_for_by              59642\n",
       "dtype: int64"
      ]
     },
     "execution_count": 10,
     "metadata": {},
     "output_type": "execute_result"
    }
   ],
   "source": [
    "df.dropna(subset=['title'], inplace= True)\n",
    "df.drop(columns=['listbuilding_fundraising_proba', 'targetedness', 'targetings', 'targets', \n",
    "                 'targeting', 'images', 'lang', 'thumbnail', 'html', 'page_id', 'suppressed', 'entities', 'lower_page'], inplace=True)\n",
    "\n",
    "df.isnull().sum()"
   ]
  },
  {
   "cell_type": "code",
   "execution_count": 11,
   "metadata": {
    "scrolled": true
   },
   "outputs": [],
   "source": [
    "df['socio_political_fb'] = df['paid_for_by'].notnull()\n"
   ]
  },
  {
   "cell_type": "code",
   "execution_count": 12,
   "metadata": {},
   "outputs": [],
   "source": [
    "df['advert_by'] = np.where(df.paid_for_by.isnull(), df.advertiser, df.paid_for_by)\n"
   ]
  },
  {
   "cell_type": "code",
   "execution_count": 13,
   "metadata": {
    "scrolled": true
   },
   "outputs": [
    {
     "data": {
      "text/html": [
       "<div>\n",
       "<style scoped>\n",
       "    .dataframe tbody tr th:only-of-type {\n",
       "        vertical-align: middle;\n",
       "    }\n",
       "\n",
       "    .dataframe tbody tr th {\n",
       "        vertical-align: top;\n",
       "    }\n",
       "\n",
       "    .dataframe thead th {\n",
       "        text-align: right;\n",
       "    }\n",
       "</style>\n",
       "<table border=\"1\" class=\"dataframe\">\n",
       "  <thead>\n",
       "    <tr style=\"text-align: right;\">\n",
       "      <th></th>\n",
       "      <th>page</th>\n",
       "      <th>advert_by</th>\n",
       "      <th>socio_political_fb</th>\n",
       "    </tr>\n",
       "  </thead>\n",
       "  <tbody>\n",
       "    <tr>\n",
       "      <th>16997</th>\n",
       "      <td>https://www.facebook.com/indivisibleguide/</td>\n",
       "      <td>NaN</td>\n",
       "      <td>False</td>\n",
       "    </tr>\n",
       "    <tr>\n",
       "      <th>24074</th>\n",
       "      <td>https://www.facebook.com/clc.ctc/</td>\n",
       "      <td>NaN</td>\n",
       "      <td>False</td>\n",
       "    </tr>\n",
       "    <tr>\n",
       "      <th>29379</th>\n",
       "      <td>https://www.facebook.com/knightfdn/</td>\n",
       "      <td>NaN</td>\n",
       "      <td>False</td>\n",
       "    </tr>\n",
       "    <tr>\n",
       "      <th>33198</th>\n",
       "      <td>https://www.facebook.com/indivisibleguide/</td>\n",
       "      <td>NaN</td>\n",
       "      <td>False</td>\n",
       "    </tr>\n",
       "    <tr>\n",
       "      <th>34364</th>\n",
       "      <td>https://www.facebook.com/knightfdn/</td>\n",
       "      <td>NaN</td>\n",
       "      <td>False</td>\n",
       "    </tr>\n",
       "    <tr>\n",
       "      <th>...</th>\n",
       "      <td>...</td>\n",
       "      <td>...</td>\n",
       "      <td>...</td>\n",
       "    </tr>\n",
       "    <tr>\n",
       "      <th>192182</th>\n",
       "      <td>https://www.facebook.com/indivisibleguide/</td>\n",
       "      <td>NaN</td>\n",
       "      <td>False</td>\n",
       "    </tr>\n",
       "    <tr>\n",
       "      <th>192643</th>\n",
       "      <td>https://www.facebook.com/obamafoundation/</td>\n",
       "      <td>NaN</td>\n",
       "      <td>False</td>\n",
       "    </tr>\n",
       "    <tr>\n",
       "      <th>200395</th>\n",
       "      <td>https://www.facebook.com/indivisibleguide/</td>\n",
       "      <td>NaN</td>\n",
       "      <td>False</td>\n",
       "    </tr>\n",
       "    <tr>\n",
       "      <th>203419</th>\n",
       "      <td>https://www.facebook.com/indivisibleguide/</td>\n",
       "      <td>NaN</td>\n",
       "      <td>False</td>\n",
       "    </tr>\n",
       "    <tr>\n",
       "      <th>216864</th>\n",
       "      <td>https://www.facebook.com/indivisibleguide/</td>\n",
       "      <td>NaN</td>\n",
       "      <td>False</td>\n",
       "    </tr>\n",
       "  </tbody>\n",
       "</table>\n",
       "<p>315 rows × 3 columns</p>\n",
       "</div>"
      ],
      "text/plain": [
       "                                              page advert_by  \\\n",
       "16997   https://www.facebook.com/indivisibleguide/       NaN   \n",
       "24074            https://www.facebook.com/clc.ctc/       NaN   \n",
       "29379          https://www.facebook.com/knightfdn/       NaN   \n",
       "33198   https://www.facebook.com/indivisibleguide/       NaN   \n",
       "34364          https://www.facebook.com/knightfdn/       NaN   \n",
       "...                                            ...       ...   \n",
       "192182  https://www.facebook.com/indivisibleguide/       NaN   \n",
       "192643   https://www.facebook.com/obamafoundation/       NaN   \n",
       "200395  https://www.facebook.com/indivisibleguide/       NaN   \n",
       "203419  https://www.facebook.com/indivisibleguide/       NaN   \n",
       "216864  https://www.facebook.com/indivisibleguide/       NaN   \n",
       "\n",
       "        socio_political_fb  \n",
       "16997                False  \n",
       "24074                False  \n",
       "29379                False  \n",
       "33198                False  \n",
       "34364                False  \n",
       "...                    ...  \n",
       "192182               False  \n",
       "192643               False  \n",
       "200395               False  \n",
       "203419               False  \n",
       "216864               False  \n",
       "\n",
       "[315 rows x 3 columns]"
      ]
     },
     "execution_count": 13,
     "metadata": {},
     "output_type": "execute_result"
    }
   ],
   "source": [
    "df[(df['advert_by'].isnull()) & (df['page'].notnull())][['page', 'advert_by', 'socio_political_fb']]"
   ]
  },
  {
   "cell_type": "code",
   "execution_count": 14,
   "metadata": {},
   "outputs": [
    {
     "data": {
      "text/html": [
       "<div>\n",
       "<style scoped>\n",
       "    .dataframe tbody tr th:only-of-type {\n",
       "        vertical-align: middle;\n",
       "    }\n",
       "\n",
       "    .dataframe tbody tr th {\n",
       "        vertical-align: top;\n",
       "    }\n",
       "\n",
       "    .dataframe thead th {\n",
       "        text-align: right;\n",
       "    }\n",
       "</style>\n",
       "<table border=\"1\" class=\"dataframe\">\n",
       "  <thead>\n",
       "    <tr style=\"text-align: right;\">\n",
       "      <th></th>\n",
       "      <th>id</th>\n",
       "      <th>political</th>\n",
       "      <th>not_political</th>\n",
       "      <th>title</th>\n",
       "      <th>message</th>\n",
       "      <th>created_at</th>\n",
       "      <th>updated_at</th>\n",
       "      <th>impressions</th>\n",
       "      <th>political_probability</th>\n",
       "      <th>advertiser</th>\n",
       "      <th>page</th>\n",
       "      <th>paid_for_by</th>\n",
       "      <th>socio_political_fb</th>\n",
       "      <th>advert_by</th>\n",
       "    </tr>\n",
       "  </thead>\n",
       "  <tbody>\n",
       "  </tbody>\n",
       "</table>\n",
       "</div>"
      ],
      "text/plain": [
       "Empty DataFrame\n",
       "Columns: [id, political, not_political, title, message, created_at, updated_at, impressions, political_probability, advertiser, page, paid_for_by, socio_political_fb, advert_by]\n",
       "Index: []"
      ]
     },
     "execution_count": 14,
     "metadata": {},
     "output_type": "execute_result"
    }
   ],
   "source": [
    "df.advert_by = np.where(df.advert_by.isnull(), df.page, df.advert_by)\n",
    "df[(df['advert_by'].isnull()) & (df['advertiser'].notnull())]"
   ]
  },
  {
   "cell_type": "code",
   "execution_count": 15,
   "metadata": {},
   "outputs": [],
   "source": [
    "df['advert_by'].fillna('unk', inplace=True)"
   ]
  },
  {
   "cell_type": "code",
   "execution_count": 16,
   "metadata": {},
   "outputs": [
    {
     "data": {
      "text/html": [
       "<div>\n",
       "<style scoped>\n",
       "    .dataframe tbody tr th:only-of-type {\n",
       "        vertical-align: middle;\n",
       "    }\n",
       "\n",
       "    .dataframe tbody tr th {\n",
       "        vertical-align: top;\n",
       "    }\n",
       "\n",
       "    .dataframe thead th {\n",
       "        text-align: right;\n",
       "    }\n",
       "</style>\n",
       "<table border=\"1\" class=\"dataframe\">\n",
       "  <thead>\n",
       "    <tr style=\"text-align: right;\">\n",
       "      <th></th>\n",
       "      <th>id</th>\n",
       "      <th>political</th>\n",
       "      <th>not_political</th>\n",
       "      <th>title</th>\n",
       "      <th>message</th>\n",
       "      <th>created_at</th>\n",
       "      <th>updated_at</th>\n",
       "      <th>impressions</th>\n",
       "      <th>political_probability</th>\n",
       "      <th>advertiser</th>\n",
       "      <th>page</th>\n",
       "      <th>paid_for_by</th>\n",
       "      <th>socio_political_fb</th>\n",
       "      <th>advert_by</th>\n",
       "    </tr>\n",
       "  </thead>\n",
       "  <tbody>\n",
       "  </tbody>\n",
       "</table>\n",
       "</div>"
      ],
      "text/plain": [
       "Empty DataFrame\n",
       "Columns: [id, political, not_political, title, message, created_at, updated_at, impressions, political_probability, advertiser, page, paid_for_by, socio_political_fb, advert_by]\n",
       "Index: []"
      ]
     },
     "execution_count": 16,
     "metadata": {},
     "output_type": "execute_result"
    }
   ],
   "source": [
    "df[(df['page']).notnull() & (df['advert_by'].isnull())]"
   ]
  },
  {
   "cell_type": "code",
   "execution_count": 17,
   "metadata": {},
   "outputs": [
    {
     "data": {
      "text/plain": [
       "(222139, 14)"
      ]
     },
     "execution_count": 17,
     "metadata": {},
     "output_type": "execute_result"
    }
   ],
   "source": [
    "df.shape"
   ]
  },
  {
   "cell_type": "code",
   "execution_count": 18,
   "metadata": {},
   "outputs": [
    {
     "data": {
      "text/plain": [
       "id                           0\n",
       "political                    0\n",
       "not_political                0\n",
       "title                        0\n",
       "message                      0\n",
       "created_at                   0\n",
       "updated_at                   0\n",
       "impressions                  0\n",
       "political_probability        0\n",
       "advertiser               35814\n",
       "page                      5331\n",
       "paid_for_by              59642\n",
       "socio_political_fb           0\n",
       "advert_by                    0\n",
       "dtype: int64"
      ]
     },
     "execution_count": 18,
     "metadata": {},
     "output_type": "execute_result"
    }
   ],
   "source": [
    "df.isnull().sum()"
   ]
  },
  {
   "cell_type": "code",
   "execution_count": 19,
   "metadata": {},
   "outputs": [
    {
     "data": {
      "text/plain": [
       "id                       0\n",
       "political                0\n",
       "not_political            0\n",
       "title                    0\n",
       "message                  0\n",
       "created_at               0\n",
       "updated_at               0\n",
       "impressions              0\n",
       "political_probability    0\n",
       "socio_political_fb       0\n",
       "advert_by                0\n",
       "dtype: int64"
      ]
     },
     "execution_count": 19,
     "metadata": {},
     "output_type": "execute_result"
    }
   ],
   "source": [
    "df.dropna(axis=1, inplace=True)\n",
    "df.isnull().sum()"
   ]
  },
  {
   "cell_type": "code",
   "execution_count": 20,
   "metadata": {},
   "outputs": [
    {
     "data": {
      "text/plain": [
       "0         <p>Our elections are changing rapidly. Many De...\n",
       "1         <p>Uncertain times shouldn’t impact your acces...\n",
       "2         <p>Urgent! <a class=\"_58cn\" href=\"https://www....\n",
       "3         <p>If you want to take back the Senate and ret...\n",
       "4         <span class=\"l_l7k1njrjc\">Neck pain can be cau...\n",
       "                                ...                        \n",
       "222181    <p>Congress MUST act quickly to protect workin...\n",
       "222182    <p>CRS is on the ground preventing and respond...\n",
       "222183    <p>When she was running for president, one of ...\n",
       "222184    <span class=\"g_rvp2lpj2y\">Antioch’s MBA featur...\n",
       "222185    <span class=\"u_pjn08f_5u\">We’re all a little d...\n",
       "Name: message, Length: 222139, dtype: object"
      ]
     },
     "execution_count": 20,
     "metadata": {},
     "output_type": "execute_result"
    }
   ],
   "source": [
    "df['message']"
   ]
  },
  {
   "cell_type": "code",
   "execution_count": 21,
   "metadata": {},
   "outputs": [],
   "source": [
    "from wrangle import wrangle"
   ]
  },
  {
   "cell_type": "code",
   "execution_count": 22,
   "metadata": {},
   "outputs": [
    {
     "data": {
      "text/html": [
       "<div>\n",
       "<style scoped>\n",
       "    .dataframe tbody tr th:only-of-type {\n",
       "        vertical-align: middle;\n",
       "    }\n",
       "\n",
       "    .dataframe tbody tr th {\n",
       "        vertical-align: top;\n",
       "    }\n",
       "\n",
       "    .dataframe thead th {\n",
       "        text-align: right;\n",
       "    }\n",
       "</style>\n",
       "<table border=\"1\" class=\"dataframe\">\n",
       "  <thead>\n",
       "    <tr style=\"text-align: right;\">\n",
       "      <th></th>\n",
       "      <th>id</th>\n",
       "      <th>political</th>\n",
       "      <th>not_political</th>\n",
       "      <th>title</th>\n",
       "      <th>message</th>\n",
       "      <th>created_at</th>\n",
       "      <th>updated_at</th>\n",
       "      <th>impressions</th>\n",
       "      <th>political_probability</th>\n",
       "      <th>socio_political_fb</th>\n",
       "      <th>advert_by</th>\n",
       "    </tr>\n",
       "  </thead>\n",
       "  <tbody>\n",
       "    <tr>\n",
       "      <th>0</th>\n",
       "      <td>23844966472130541</td>\n",
       "      <td>1</td>\n",
       "      <td>0</td>\n",
       "      <td>Stop Republicans</td>\n",
       "      <td>election changing rapidly many democrat terrif...</td>\n",
       "      <td>2020-04-28 18:29:51.893295+00</td>\n",
       "      <td>2020-04-28 20:00:18.291895+00</td>\n",
       "      <td>1</td>\n",
       "      <td>0.999563</td>\n",
       "      <td>True</td>\n",
       "      <td>Stop Republicans</td>\n",
       "    </tr>\n",
       "    <tr>\n",
       "      <th>1</th>\n",
       "      <td>23844607318170064</td>\n",
       "      <td>0</td>\n",
       "      <td>1</td>\n",
       "      <td>Planned Parenthood</td>\n",
       "      <td>uncertain time shouldnt impact access dependab...</td>\n",
       "      <td>2020-05-03 21:21:17.022063+00</td>\n",
       "      <td>2020-05-03 23:00:14.598025+00</td>\n",
       "      <td>1</td>\n",
       "      <td>0.426290</td>\n",
       "      <td>True</td>\n",
       "      <td>Planned Parenthood Federation of America</td>\n",
       "    </tr>\n",
       "    <tr>\n",
       "      <th>2</th>\n",
       "      <td>23844646560350048</td>\n",
       "      <td>0</td>\n",
       "      <td>0</td>\n",
       "      <td>No Kid Hungry</td>\n",
       "      <td>givingtuesdaya happening may 5th response covi...</td>\n",
       "      <td>2020-05-03 21:50:12.097628+00</td>\n",
       "      <td>2020-05-03 23:00:14.717141+00</td>\n",
       "      <td>1</td>\n",
       "      <td>0.625368</td>\n",
       "      <td>True</td>\n",
       "      <td>No Kid Hungry</td>\n",
       "    </tr>\n",
       "    <tr>\n",
       "      <th>3</th>\n",
       "      <td>23844775979230727</td>\n",
       "      <td>1</td>\n",
       "      <td>0</td>\n",
       "      <td>Kirsten Gillibrand</td>\n",
       "      <td>want take back senate retire mitch mcconnell s...</td>\n",
       "      <td>2020-04-27 23:44:32.620687+00</td>\n",
       "      <td>2020-04-28 19:48:27.917779+00</td>\n",
       "      <td>3</td>\n",
       "      <td>1.000000</td>\n",
       "      <td>True</td>\n",
       "      <td>Gillibrand for Senate</td>\n",
       "    </tr>\n",
       "    <tr>\n",
       "      <th>4</th>\n",
       "      <td>23844529028560107</td>\n",
       "      <td>0</td>\n",
       "      <td>2</td>\n",
       "      <td>Learn How to Eliminate Discomfort Today --&gt;</td>\n",
       "      <td>neck pain caused several factor effectively tr...</td>\n",
       "      <td>2020-03-28 15:38:36.16756+00</td>\n",
       "      <td>2020-04-28 19:52:56.791781+00</td>\n",
       "      <td>3</td>\n",
       "      <td>0.701307</td>\n",
       "      <td>False</td>\n",
       "      <td>unk</td>\n",
       "    </tr>\n",
       "  </tbody>\n",
       "</table>\n",
       "</div>"
      ],
      "text/plain": [
       "                  id  political  not_political  \\\n",
       "0  23844966472130541          1              0   \n",
       "1  23844607318170064          0              1   \n",
       "2  23844646560350048          0              0   \n",
       "3  23844775979230727          1              0   \n",
       "4  23844529028560107          0              2   \n",
       "\n",
       "                                         title  \\\n",
       "0                             Stop Republicans   \n",
       "1                           Planned Parenthood   \n",
       "2                                No Kid Hungry   \n",
       "3                           Kirsten Gillibrand   \n",
       "4  Learn How to Eliminate Discomfort Today -->   \n",
       "\n",
       "                                             message  \\\n",
       "0  election changing rapidly many democrat terrif...   \n",
       "1  uncertain time shouldnt impact access dependab...   \n",
       "2  givingtuesdaya happening may 5th response covi...   \n",
       "3  want take back senate retire mitch mcconnell s...   \n",
       "4  neck pain caused several factor effectively tr...   \n",
       "\n",
       "                      created_at                     updated_at  impressions  \\\n",
       "0  2020-04-28 18:29:51.893295+00  2020-04-28 20:00:18.291895+00            1   \n",
       "1  2020-05-03 21:21:17.022063+00  2020-05-03 23:00:14.598025+00            1   \n",
       "2  2020-05-03 21:50:12.097628+00  2020-05-03 23:00:14.717141+00            1   \n",
       "3  2020-04-27 23:44:32.620687+00  2020-04-28 19:48:27.917779+00            3   \n",
       "4   2020-03-28 15:38:36.16756+00  2020-04-28 19:52:56.791781+00            3   \n",
       "\n",
       "   political_probability  socio_political_fb  \\\n",
       "0               0.999563                True   \n",
       "1               0.426290                True   \n",
       "2               0.625368                True   \n",
       "3               1.000000                True   \n",
       "4               0.701307               False   \n",
       "\n",
       "                                  advert_by  \n",
       "0                          Stop Republicans  \n",
       "1  Planned Parenthood Federation of America  \n",
       "2                             No Kid Hungry  \n",
       "3                     Gillibrand for Senate  \n",
       "4                                       unk  "
      ]
     },
     "execution_count": 22,
     "metadata": {},
     "output_type": "execute_result"
    }
   ],
   "source": [
    "df = wrangle()\n",
    "df.head()"
   ]
  },
  {
   "cell_type": "code",
   "execution_count": 23,
   "metadata": {
    "scrolled": false
   },
   "outputs": [
    {
     "data": {
      "text/plain": [
       "0         election changing rapidly many democrat terrif...\n",
       "1         uncertain time shouldnt impact access dependab...\n",
       "2         givingtuesdaya happening may 5th response covi...\n",
       "3         want take back senate retire mitch mcconnell s...\n",
       "4         neck pain caused several factor effectively tr...\n",
       "                                ...                        \n",
       "222181    housing homeless life working people lowincome...\n",
       "222182    cr ground preventing responding covid19 outbre...\n",
       "222183    running president one elizabeth favorite thing...\n",
       "222184    antioch mba feature mutual importance people p...\n",
       "222185                            little desperate together\n",
       "Name: message, Length: 222139, dtype: object"
      ]
     },
     "execution_count": 23,
     "metadata": {},
     "output_type": "execute_result"
    }
   ],
   "source": [
    "df['message']"
   ]
  },
  {
   "cell_type": "code",
   "execution_count": 1,
   "metadata": {},
   "outputs": [
    {
     "data": {
      "text/html": [
       "<div>\n",
       "<style scoped>\n",
       "    .dataframe tbody tr th:only-of-type {\n",
       "        vertical-align: middle;\n",
       "    }\n",
       "\n",
       "    .dataframe tbody tr th {\n",
       "        vertical-align: top;\n",
       "    }\n",
       "\n",
       "    .dataframe thead th {\n",
       "        text-align: right;\n",
       "    }\n",
       "</style>\n",
       "<table border=\"1\" class=\"dataframe\">\n",
       "  <thead>\n",
       "    <tr style=\"text-align: right;\">\n",
       "      <th></th>\n",
       "      <th>id</th>\n",
       "      <th>political</th>\n",
       "      <th>not_political</th>\n",
       "      <th>title</th>\n",
       "      <th>message</th>\n",
       "      <th>created_at</th>\n",
       "      <th>updated_at</th>\n",
       "      <th>impressions</th>\n",
       "      <th>political_probability</th>\n",
       "      <th>socio_political_fb</th>\n",
       "      <th>advert_by</th>\n",
       "    </tr>\n",
       "  </thead>\n",
       "  <tbody>\n",
       "    <tr>\n",
       "      <th>132967</th>\n",
       "      <td>23842810769120558</td>\n",
       "      <td>0</td>\n",
       "      <td>0</td>\n",
       "      <td>End Citizens United</td>\n",
       "      <td>koch said spend 400 million preserve republica...</td>\n",
       "      <td>2018-03-01 19:50:38.892007+00</td>\n",
       "      <td>2018-03-01 19:50:38.910542+00</td>\n",
       "      <td>2</td>\n",
       "      <td>0.973059</td>\n",
       "      <td>False</td>\n",
       "      <td>Arizona Democratic Party</td>\n",
       "    </tr>\n",
       "    <tr>\n",
       "      <th>171238</th>\n",
       "      <td>hyperfeed_story_id_5cdb616c650cc2c08453510</td>\n",
       "      <td>1</td>\n",
       "      <td>0</td>\n",
       "      <td>Jay Inslee</td>\n",
       "      <td>simple get jay debate stage june need 65000 do...</td>\n",
       "      <td>2019-05-15 00:47:15.677809+00</td>\n",
       "      <td>2019-05-15 02:08:15.943151+00</td>\n",
       "      <td>1</td>\n",
       "      <td>0.999831</td>\n",
       "      <td>True</td>\n",
       "      <td>INSLEE FOR AMERICA</td>\n",
       "    </tr>\n",
       "    <tr>\n",
       "      <th>157472</th>\n",
       "      <td>6113998509676</td>\n",
       "      <td>0</td>\n",
       "      <td>0</td>\n",
       "      <td>Athens for Everyone</td>\n",
       "      <td>vote november 6 check voter guide information ...</td>\n",
       "      <td>2018-10-26 01:52:16.250883+00</td>\n",
       "      <td>2018-10-26 01:52:16.250883+00</td>\n",
       "      <td>1</td>\n",
       "      <td>0.984821</td>\n",
       "      <td>True</td>\n",
       "      <td>Athens for Everyone</td>\n",
       "    </tr>\n",
       "    <tr>\n",
       "      <th>18371</th>\n",
       "      <td>23843613746350544</td>\n",
       "      <td>2</td>\n",
       "      <td>2</td>\n",
       "      <td>PHS : Pennsylvania Horticultural Society</td>\n",
       "      <td>httpsbitly34h5kvxa</td>\n",
       "      <td>2019-09-30 08:21:12.454423+00</td>\n",
       "      <td>2019-10-01 17:05:33.831098+00</td>\n",
       "      <td>1</td>\n",
       "      <td>0.717423</td>\n",
       "      <td>False</td>\n",
       "      <td>PHS : Pennsylvania Horticultural Society</td>\n",
       "    </tr>\n",
       "    <tr>\n",
       "      <th>221209</th>\n",
       "      <td>23844574775710064</td>\n",
       "      <td>0</td>\n",
       "      <td>0</td>\n",
       "      <td>Planned Parenthood</td>\n",
       "      <td>planned parenthood expert make life easier eve...</td>\n",
       "      <td>2020-04-28 00:09:46.224171+00</td>\n",
       "      <td>2020-04-28 15:00:14.714633+00</td>\n",
       "      <td>1</td>\n",
       "      <td>0.617928</td>\n",
       "      <td>True</td>\n",
       "      <td>Planned Parenthood Federation of America</td>\n",
       "    </tr>\n",
       "  </tbody>\n",
       "</table>\n",
       "</div>"
      ],
      "text/plain": [
       "                                                id  political  not_political  \\\n",
       "132967                           23842810769120558          0              0   \n",
       "171238  hyperfeed_story_id_5cdb616c650cc2c08453510          1              0   \n",
       "157472                               6113998509676          0              0   \n",
       "18371                            23843613746350544          2              2   \n",
       "221209                           23844574775710064          0              0   \n",
       "\n",
       "                                           title  \\\n",
       "132967                       End Citizens United   \n",
       "171238                                Jay Inslee   \n",
       "157472                       Athens for Everyone   \n",
       "18371   PHS : Pennsylvania Horticultural Society   \n",
       "221209                        Planned Parenthood   \n",
       "\n",
       "                                                  message  \\\n",
       "132967  koch said spend 400 million preserve republica...   \n",
       "171238  simple get jay debate stage june need 65000 do...   \n",
       "157472  vote november 6 check voter guide information ...   \n",
       "18371                                  httpsbitly34h5kvxa   \n",
       "221209  planned parenthood expert make life easier eve...   \n",
       "\n",
       "                           created_at                     updated_at  \\\n",
       "132967  2018-03-01 19:50:38.892007+00  2018-03-01 19:50:38.910542+00   \n",
       "171238  2019-05-15 00:47:15.677809+00  2019-05-15 02:08:15.943151+00   \n",
       "157472  2018-10-26 01:52:16.250883+00  2018-10-26 01:52:16.250883+00   \n",
       "18371   2019-09-30 08:21:12.454423+00  2019-10-01 17:05:33.831098+00   \n",
       "221209  2020-04-28 00:09:46.224171+00  2020-04-28 15:00:14.714633+00   \n",
       "\n",
       "        impressions  political_probability  socio_political_fb  \\\n",
       "132967            2               0.973059               False   \n",
       "171238            1               0.999831                True   \n",
       "157472            1               0.984821                True   \n",
       "18371             1               0.717423               False   \n",
       "221209            1               0.617928                True   \n",
       "\n",
       "                                       advert_by  \n",
       "132967                  Arizona Democratic Party  \n",
       "171238                        INSLEE FOR AMERICA  \n",
       "157472                       Athens for Everyone  \n",
       "18371   PHS : Pennsylvania Horticultural Society  \n",
       "221209  Planned Parenthood Federation of America  "
      ]
     },
     "execution_count": 1,
     "metadata": {},
     "output_type": "execute_result"
    }
   ],
   "source": [
    "from wrangle import wrangle\n",
    "train, validate, test = wrangle('en-US.csv')\n",
    "train.head()"
   ]
  },
  {
   "cell_type": "code",
   "execution_count": null,
   "metadata": {},
   "outputs": [],
   "source": []
  }
 ],
 "metadata": {
  "kernelspec": {
   "display_name": "Python 3",
   "language": "python",
   "name": "python3"
  },
  "language_info": {
   "codemirror_mode": {
    "name": "ipython",
    "version": 3
   },
   "file_extension": ".py",
   "mimetype": "text/x-python",
   "name": "python",
   "nbconvert_exporter": "python",
   "pygments_lexer": "ipython3",
   "version": "3.8.3"
  }
 },
 "nbformat": 4,
 "nbformat_minor": 4
}
